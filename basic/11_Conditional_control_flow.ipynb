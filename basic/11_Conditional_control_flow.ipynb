{
  "nbformat": 4,
  "nbformat_minor": 0,
  "metadata": {
    "colab": {
      "name": "11_Conditional control flow.ipynb",
      "version": "0.3.2",
      "provenance": [],
      "collapsed_sections": [],
      "include_colab_link": true
    },
    "kernelspec": {
      "name": "python3",
      "display_name": "Python 3"
    }
  },
  "cells": [
    {
      "cell_type": "markdown",
      "metadata": {
        "id": "view-in-github",
        "colab_type": "text"
      },
      "source": [
        "<a href=\"https://colab.research.google.com/github/bttrung/python-study/blob/master/basic/11_Conditional_control_flow.ipynb\" target=\"_parent\"><img src=\"https://colab.research.google.com/assets/colab-badge.svg\" alt=\"Open In Colab\"/></a>"
      ]
    },
    {
      "cell_type": "code",
      "metadata": {
        "id": "DglRAKA4ncky",
        "colab_type": "code",
        "colab": {}
      },
      "source": [
        "balance = 11"
      ],
      "execution_count": 0,
      "outputs": []
    },
    {
      "cell_type": "code",
      "metadata": {
        "id": "12rh5ISpocHB",
        "colab_type": "code",
        "colab": {
          "base_uri": "https://localhost:8080/",
          "height": 51
        },
        "outputId": "d0887b72-7193-4ced-f8de-8f00f385474e"
      },
      "source": [
        "if balance < 5:\n",
        "  print('Bad')\n",
        "elif balance <= 10:\n",
        "  print('Normal')\n",
        "else:\n",
        "  print('Good')\n",
        "\n",
        "print('Show this anyways')"
      ],
      "execution_count": 8,
      "outputs": [
        {
          "output_type": "stream",
          "text": [
            "Good\n",
            "Show this anyways\n"
          ],
          "name": "stdout"
        }
      ]
    },
    {
      "cell_type": "code",
      "metadata": {
        "id": "guUCkXfVpC62",
        "colab_type": "code",
        "colab": {
          "base_uri": "https://localhost:8080/",
          "height": 34
        },
        "outputId": "a846face-b240-4d1f-ff4c-fda540d46c0e"
      },
      "source": [
        "p = 188\n",
        "if p >=1 and p <=50:\n",
        "  result = 'Wooden rabbit'\n",
        "elif p >= 51 and p <= 150:\n",
        "  result = 'no prize'\n",
        "elif p >= 151 and p <= 180:\n",
        "  result = 'water-thin'\n",
        "elif p >= 181 and p <= 200:\n",
        "  result = 'penguin'\n",
        "else:\n",
        "  result = 'No Prize this time'\n",
        "\n",
        "print(result)"
      ],
      "execution_count": 14,
      "outputs": [
        {
          "output_type": "stream",
          "text": [
            "penguin\n"
          ],
          "name": "stdout"
        }
      ]
    },
    {
      "cell_type": "code",
      "metadata": {
        "id": "b7aLpIETqPhW",
        "colab_type": "code",
        "colab": {}
      },
      "source": [
        ""
      ],
      "execution_count": 0,
      "outputs": []
    },
    {
      "cell_type": "markdown",
      "metadata": {
        "id": "jIYqcXkNqlBT",
        "colab_type": "text"
      },
      "source": [
        "## Complex bool expression "
      ]
    },
    {
      "cell_type": "code",
      "metadata": {
        "id": "5-z0E4wfqnJe",
        "colab_type": "code",
        "colab": {
          "base_uri": "https://localhost:8080/",
          "height": 34
        },
        "outputId": "1e9febf2-bf82-4f8d-dfa8-e9a5786764f9"
      },
      "source": [
        "a = False\n",
        "b = True\n",
        "\n",
        "if a or b and 3 > 2 or 2 < 1 and 4 == 4:\n",
        "  print('hello')\n",
        "else:\n",
        "  print('alo')"
      ],
      "execution_count": 16,
      "outputs": [
        {
          "output_type": "stream",
          "text": [
            "hello\n"
          ],
          "name": "stdout"
        }
      ]
    },
    {
      "cell_type": "code",
      "metadata": {
        "id": "qkjAIUfGrK_Q",
        "colab_type": "code",
        "colab": {}
      },
      "source": [
        ""
      ],
      "execution_count": 0,
      "outputs": []
    }
  ]
}