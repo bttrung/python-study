{
  "nbformat": 4,
  "nbformat_minor": 0,
  "metadata": {
    "colab": {
      "name": "13_While_Loop_Break_Continue.ipynb",
      "version": "0.3.2",
      "provenance": [],
      "collapsed_sections": [],
      "include_colab_link": true
    },
    "kernelspec": {
      "name": "python3",
      "display_name": "Python 3"
    }
  },
  "cells": [
    {
      "cell_type": "markdown",
      "metadata": {
        "id": "view-in-github",
        "colab_type": "text"
      },
      "source": [
        "<a href=\"https://colab.research.google.com/github/bttrung/python-study/blob/master/basic/13_While_Loop_Break_Continue.ipynb\" target=\"_parent\"><img src=\"https://colab.research.google.com/assets/colab-badge.svg\" alt=\"Open In Colab\"/></a>"
      ]
    },
    {
      "cell_type": "code",
      "metadata": {
        "id": "mdmz6MZQn3kB",
        "colab_type": "code",
        "colab": {}
      },
      "source": [
        "li = [1, 2, 4, 3, 5, 6, 7, 8, 9, 4, 5, 6]\n",
        "hand = []"
      ],
      "execution_count": 0,
      "outputs": []
    },
    {
      "cell_type": "code",
      "metadata": {
        "id": "_Lno743hu4H1",
        "colab_type": "code",
        "colab": {
          "base_uri": "https://localhost:8080/",
          "height": 119
        },
        "outputId": "60db1e87-43cc-4bf8-ed4b-87058b359223"
      },
      "source": [
        "while sum(hand) < 25:\n",
        "  hand.append(li.pop())\n",
        "  print(sum(hand))\n",
        "\n",
        "print(\"Final: {}\".format(sum(hand)))"
      ],
      "execution_count": 11,
      "outputs": [
        {
          "output_type": "stream",
          "text": [
            "6\n",
            "11\n",
            "15\n",
            "24\n",
            "32\n",
            "Final: 32\n"
          ],
          "name": "stdout"
        }
      ]
    },
    {
      "cell_type": "code",
      "metadata": {
        "id": "f9HIwijKvPei",
        "colab_type": "code",
        "colab": {
          "base_uri": "https://localhost:8080/",
          "height": 34
        },
        "outputId": "b5d6b9fb-a0a5-4ac7-8fba-e50917fd207a"
      },
      "source": [
        "# factorials with while loop\n",
        "number = 5\n",
        "product = 1\n",
        "current = 1\n",
        "\n",
        "while current <= number:\n",
        "  product *= current\n",
        "  current += 1\n",
        "\n",
        "print(product)"
      ],
      "execution_count": 14,
      "outputs": [
        {
          "output_type": "stream",
          "text": [
            "120\n"
          ],
          "name": "stdout"
        }
      ]
    },
    {
      "cell_type": "code",
      "metadata": {
        "id": "eR7-ayS6wCdT",
        "colab_type": "code",
        "colab": {}
      },
      "source": [
        ""
      ],
      "execution_count": 0,
      "outputs": []
    },
    {
      "cell_type": "markdown",
      "metadata": {
        "id": "rw3HztuGwMnP",
        "colab_type": "text"
      },
      "source": [
        "## Break and Continue"
      ]
    },
    {
      "cell_type": "code",
      "metadata": {
        "id": "0Ji-xr27wOFS",
        "colab_type": "code",
        "colab": {}
      },
      "source": [
        "# break: terminate for loop or while loop\n",
        "li = [1, 2, 4, 3, 5, 6, 7, 8, 9, 4, 5, 6]"
      ],
      "execution_count": 0,
      "outputs": []
    },
    {
      "cell_type": "code",
      "metadata": {
        "id": "NpLGb9FrwYVb",
        "colab_type": "code",
        "colab": {
          "base_uri": "https://localhost:8080/",
          "height": 68
        },
        "outputId": "6cc59e95-30e0-4aaf-9699-29462ecda57b"
      },
      "source": [
        "for e in li:\n",
        "  if e == 3:\n",
        "    break\n",
        "  else:\n",
        "    print(e)"
      ],
      "execution_count": 18,
      "outputs": [
        {
          "output_type": "stream",
          "text": [
            "1\n",
            "2\n",
            "4\n"
          ],
          "name": "stdout"
        }
      ]
    },
    {
      "cell_type": "code",
      "metadata": {
        "id": "f-nlWxYuwhAz",
        "colab_type": "code",
        "colab": {
          "base_uri": "https://localhost:8080/",
          "height": 187
        },
        "outputId": "3e9df017-7380-4194-f648-db422f16451a"
      },
      "source": [
        "# continue: terminate one iteration of for loop or while loop\n",
        "# the following code will skip print number 5\n",
        "for e in li:\n",
        "  if e == 5:\n",
        "    continue\n",
        "  else:\n",
        "    print(e)"
      ],
      "execution_count": 21,
      "outputs": [
        {
          "output_type": "stream",
          "text": [
            "1\n",
            "2\n",
            "4\n",
            "3\n",
            "6\n",
            "7\n",
            "8\n",
            "9\n",
            "4\n",
            "6\n"
          ],
          "name": "stdout"
        }
      ]
    },
    {
      "cell_type": "code",
      "metadata": {
        "id": "tstfhiUewutr",
        "colab_type": "code",
        "colab": {}
      },
      "source": [
        ""
      ],
      "execution_count": 0,
      "outputs": []
    }
  ]
}