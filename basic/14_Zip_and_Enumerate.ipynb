{
  "nbformat": 4,
  "nbformat_minor": 0,
  "metadata": {
    "colab": {
      "name": "14_Zip_and_Enumerate.ipynb",
      "version": "0.3.2",
      "provenance": [],
      "collapsed_sections": [],
      "include_colab_link": true
    },
    "kernelspec": {
      "name": "python3",
      "display_name": "Python 3"
    }
  },
  "cells": [
    {
      "cell_type": "markdown",
      "metadata": {
        "id": "view-in-github",
        "colab_type": "text"
      },
      "source": [
        "<a href=\"https://colab.research.google.com/github/bttrung/python-study/blob/master/basic/14_Zip_and_Enumerate.ipynb\" target=\"_parent\"><img src=\"https://colab.research.google.com/assets/colab-badge.svg\" alt=\"Open In Colab\"/></a>"
      ]
    },
    {
      "cell_type": "code",
      "metadata": {
        "id": "WbDVawaAn6_K",
        "colab_type": "code",
        "colab": {}
      },
      "source": [
        "# zip: return an iterator that combines multiple interables into one sequence of tuples\n",
        "items = ['banana', 'orange', 'apple']\n",
        "counts = [10, 22, 4]\n",
        "froms = ['vietnam', 'china', 'thailand']\n",
        "\n",
        "togethersList = list(zip(items, counts, froms))"
      ],
      "execution_count": 0,
      "outputs": []
    },
    {
      "cell_type": "code",
      "metadata": {
        "id": "1BfEMWicyYEv",
        "colab_type": "code",
        "colab": {
          "base_uri": "https://localhost:8080/",
          "height": 34
        },
        "outputId": "971a70a9-959b-4848-b88f-b4578930c4f5"
      },
      "source": [
        "togethersList"
      ],
      "execution_count": 6,
      "outputs": [
        {
          "output_type": "execute_result",
          "data": {
            "text/plain": [
              "[('banana', 10, 'vietnam'), ('orange', 22, 'china'), ('apple', 4, 'thailand')]"
            ]
          },
          "metadata": {
            "tags": []
          },
          "execution_count": 6
        }
      ]
    },
    {
      "cell_type": "code",
      "metadata": {
        "id": "9oyxP3ZDybNs",
        "colab_type": "code",
        "colab": {}
      },
      "source": [
        "togethersSet = set(zip(items, counts, froms))"
      ],
      "execution_count": 0,
      "outputs": []
    },
    {
      "cell_type": "code",
      "metadata": {
        "id": "ex2bJ_7Wyt_E",
        "colab_type": "code",
        "colab": {
          "base_uri": "https://localhost:8080/",
          "height": 34
        },
        "outputId": "f41b29ab-8716-4c0d-95ae-7c12047f2673"
      },
      "source": [
        "togethersSet"
      ],
      "execution_count": 8,
      "outputs": [
        {
          "output_type": "execute_result",
          "data": {
            "text/plain": [
              "{('apple', 4, 'thailand'), ('banana', 10, 'vietnam'), ('orange', 22, 'china')}"
            ]
          },
          "metadata": {
            "tags": []
          },
          "execution_count": 8
        }
      ]
    },
    {
      "cell_type": "code",
      "metadata": {
        "id": "A5jmXzEDyvk9",
        "colab_type": "code",
        "colab": {
          "base_uri": "https://localhost:8080/",
          "height": 68
        },
        "outputId": "48d654ea-3302-44cd-bd09-1c4902ceb9bc"
      },
      "source": [
        "for i, item, count, f in zip(range(len(items)), items, counts, froms):\n",
        "  print(i, item, count, f)"
      ],
      "execution_count": 11,
      "outputs": [
        {
          "output_type": "stream",
          "text": [
            "0 banana 10 vietnam\n",
            "1 orange 22 china\n",
            "2 apple 4 thailand\n"
          ],
          "name": "stdout"
        }
      ]
    },
    {
      "cell_type": "code",
      "metadata": {
        "id": "QX9f2QvNy9Bm",
        "colab_type": "code",
        "colab": {
          "base_uri": "https://localhost:8080/",
          "height": 85
        },
        "outputId": "4e5f5d93-76da-4823-9050-b3dbcf6e3f7f"
      },
      "source": [
        "# enumerate: is a built in function that returns an iterator of tuples containing indices and values of a list. You'll often use this when you want the index along with each element of an iterable in a loop\n",
        "letters = ['a', 'b', 'c', 'd']\n",
        "\n",
        "for i, letter in enumerate(letters):\n",
        "  print(i, letter)"
      ],
      "execution_count": 12,
      "outputs": [
        {
          "output_type": "stream",
          "text": [
            "0 a\n",
            "1 b\n",
            "2 c\n",
            "3 d\n"
          ],
          "name": "stdout"
        }
      ]
    },
    {
      "cell_type": "code",
      "metadata": {
        "id": "lhtIqGeHzjG8",
        "colab_type": "code",
        "colab": {}
      },
      "source": [
        ""
      ],
      "execution_count": 0,
      "outputs": []
    }
  ]
}