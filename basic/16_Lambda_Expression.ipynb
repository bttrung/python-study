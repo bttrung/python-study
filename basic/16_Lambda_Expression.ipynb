{
  "nbformat": 4,
  "nbformat_minor": 0,
  "metadata": {
    "colab": {
      "name": "16_Lambda Expression.ipynb",
      "version": "0.3.2",
      "provenance": [],
      "collapsed_sections": [],
      "include_colab_link": true
    },
    "kernelspec": {
      "name": "python3",
      "display_name": "Python 3"
    }
  },
  "cells": [
    {
      "cell_type": "markdown",
      "metadata": {
        "id": "view-in-github",
        "colab_type": "text"
      },
      "source": [
        "<a href=\"https://colab.research.google.com/github/bttrung/python-study/blob/master/basic/16_Lambda_Expression.ipynb\" target=\"_parent\"><img src=\"https://colab.research.google.com/assets/colab-badge.svg\" alt=\"Open In Colab\"/></a>"
      ]
    },
    {
      "cell_type": "code",
      "metadata": {
        "id": "bPZku5NY4_ZY",
        "colab_type": "code",
        "colab": {}
      },
      "source": [
        "# lambda Expression used to create an annonymous function\n",
        "\n",
        "def exponent(x):\n",
        "  return x**2"
      ],
      "execution_count": 0,
      "outputs": []
    },
    {
      "cell_type": "code",
      "metadata": {
        "id": "mJGYDMuL5bHe",
        "colab_type": "code",
        "colab": {
          "base_uri": "https://localhost:8080/",
          "height": 34
        },
        "outputId": "2cca458f-9b4f-4370-db77-312a8feb3903"
      },
      "source": [
        "exponent(4)"
      ],
      "execution_count": 2,
      "outputs": [
        {
          "output_type": "execute_result",
          "data": {
            "text/plain": [
              "16"
            ]
          },
          "metadata": {
            "tags": []
          },
          "execution_count": 2
        }
      ]
    },
    {
      "cell_type": "code",
      "metadata": {
        "id": "MDI9j1rP5iI-",
        "colab_type": "code",
        "colab": {}
      },
      "source": [
        "lambda_exponent = lambda x : x**2"
      ],
      "execution_count": 0,
      "outputs": []
    },
    {
      "cell_type": "code",
      "metadata": {
        "id": "UHl55Ugt5ozN",
        "colab_type": "code",
        "colab": {
          "base_uri": "https://localhost:8080/",
          "height": 34
        },
        "outputId": "f4736568-9d8d-4d9f-cd1b-667f41752364"
      },
      "source": [
        "lambda_exponent(9)"
      ],
      "execution_count": 6,
      "outputs": [
        {
          "output_type": "execute_result",
          "data": {
            "text/plain": [
              "81"
            ]
          },
          "metadata": {
            "tags": []
          },
          "execution_count": 6
        }
      ]
    },
    {
      "cell_type": "code",
      "metadata": {
        "id": "0fzULFcJ5r2n",
        "colab_type": "code",
        "colab": {}
      },
      "source": [
        "lambda_multiply  = lambda x,y : x*y"
      ],
      "execution_count": 0,
      "outputs": []
    },
    {
      "cell_type": "code",
      "metadata": {
        "id": "8uMASif653o-",
        "colab_type": "code",
        "colab": {
          "base_uri": "https://localhost:8080/",
          "height": 34
        },
        "outputId": "9d6c09e2-bf20-4bb3-83eb-2cd8042c5726"
      },
      "source": [
        "lambda_multiply(8,9)"
      ],
      "execution_count": 8,
      "outputs": [
        {
          "output_type": "execute_result",
          "data": {
            "text/plain": [
              "72"
            ]
          },
          "metadata": {
            "tags": []
          },
          "execution_count": 8
        }
      ]
    },
    {
      "cell_type": "code",
      "metadata": {
        "id": "uN-CnsKR56P2",
        "colab_type": "code",
        "colab": {}
      },
      "source": [
        ""
      ],
      "execution_count": 0,
      "outputs": []
    },
    {
      "cell_type": "markdown",
      "metadata": {
        "id": "eZ6kUzqp6JZK",
        "colab_type": "text"
      },
      "source": [
        "## map"
      ]
    },
    {
      "cell_type": "code",
      "metadata": {
        "id": "p33b-yPj6Kbe",
        "colab_type": "code",
        "colab": {}
      },
      "source": [
        "# map is a higher-order built-in function that takes a function and iterable as inputs, and returns an iterator that applies the function to each element of the iterable\n",
        "numbers = [[1,2], [2,3], [3,4]]"
      ],
      "execution_count": 0,
      "outputs": []
    },
    {
      "cell_type": "code",
      "metadata": {
        "id": "Lw4JA-LZ6NIt",
        "colab_type": "code",
        "colab": {}
      },
      "source": [
        "def mean(nums):\n",
        "  return sum(nums)/len(nums)"
      ],
      "execution_count": 0,
      "outputs": []
    },
    {
      "cell_type": "code",
      "metadata": {
        "id": "EUvfeVPa6Wy9",
        "colab_type": "code",
        "colab": {
          "base_uri": "https://localhost:8080/",
          "height": 34
        },
        "outputId": "0dabd8be-05f0-4e59-ccd6-3e302c3c6989"
      },
      "source": [
        "list(map(mean, numbers))"
      ],
      "execution_count": 15,
      "outputs": [
        {
          "output_type": "execute_result",
          "data": {
            "text/plain": [
              "[1.5, 2.5, 3.5]"
            ]
          },
          "metadata": {
            "tags": []
          },
          "execution_count": 15
        }
      ]
    },
    {
      "cell_type": "code",
      "metadata": {
        "id": "SAkPHdvy6ahG",
        "colab_type": "code",
        "colab": {}
      },
      "source": [
        ""
      ],
      "execution_count": 0,
      "outputs": []
    },
    {
      "cell_type": "markdown",
      "metadata": {
        "id": "5pLCHDDx6wGR",
        "colab_type": "text"
      },
      "source": [
        "## filter\n"
      ]
    },
    {
      "cell_type": "code",
      "metadata": {
        "id": "Q8SAmPik6xwC",
        "colab_type": "code",
        "colab": {}
      },
      "source": [
        "# filter is a higher-order built-in function that takes a function and iterable as inputs and returns an iterator with the elements from the iterable for which the function returns True\n",
        "cities = [\"SG\", \"HCM\", \"Ha Noi\", \"Da Nang\"]"
      ],
      "execution_count": 0,
      "outputs": []
    },
    {
      "cell_type": "code",
      "metadata": {
        "id": "pCZtG7Z_7AzA",
        "colab_type": "code",
        "colab": {}
      },
      "source": [
        "def is_short(name):\n",
        "  return len(name) < 4"
      ],
      "execution_count": 0,
      "outputs": []
    },
    {
      "cell_type": "code",
      "metadata": {
        "id": "Du5IxFdd7Ign",
        "colab_type": "code",
        "colab": {}
      },
      "source": [
        "short_cities = list(filter(is_short, cities))"
      ],
      "execution_count": 0,
      "outputs": []
    },
    {
      "cell_type": "code",
      "metadata": {
        "id": "ccHyj5UF7PGv",
        "colab_type": "code",
        "colab": {
          "base_uri": "https://localhost:8080/",
          "height": 34
        },
        "outputId": "b5d83abb-811b-4bd4-9d8b-95d3df7d1ab7"
      },
      "source": [
        "short_cities"
      ],
      "execution_count": 23,
      "outputs": [
        {
          "output_type": "execute_result",
          "data": {
            "text/plain": [
              "['SG', 'HCM']"
            ]
          },
          "metadata": {
            "tags": []
          },
          "execution_count": 23
        }
      ]
    },
    {
      "cell_type": "code",
      "metadata": {
        "id": "ixW_Gvb57Qpo",
        "colab_type": "code",
        "colab": {}
      },
      "source": [
        ""
      ],
      "execution_count": 0,
      "outputs": []
    }
  ]
}