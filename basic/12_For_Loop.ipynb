{
  "nbformat": 4,
  "nbformat_minor": 0,
  "metadata": {
    "colab": {
      "name": "12_For_Loop.ipynb",
      "version": "0.3.2",
      "provenance": [],
      "collapsed_sections": [],
      "include_colab_link": true
    },
    "kernelspec": {
      "name": "python3",
      "display_name": "Python 3"
    }
  },
  "cells": [
    {
      "cell_type": "markdown",
      "metadata": {
        "id": "view-in-github",
        "colab_type": "text"
      },
      "source": [
        "<a href=\"https://colab.research.google.com/github/bttrung/python-study/blob/master/basic/12_For_Loop.ipynb\" target=\"_parent\"><img src=\"https://colab.research.google.com/assets/colab-badge.svg\" alt=\"Open In Colab\"/></a>"
      ]
    },
    {
      "cell_type": "code",
      "metadata": {
        "id": "YW2hjkElnsbm",
        "colab_type": "code",
        "colab": {}
      },
      "source": [
        "li = [1, 2, 3, 4, 5]"
      ],
      "execution_count": 0,
      "outputs": []
    },
    {
      "cell_type": "code",
      "metadata": {
        "id": "zTj4QSYxrjM-",
        "colab_type": "code",
        "colab": {
          "base_uri": "https://localhost:8080/",
          "height": 102
        },
        "outputId": "61903d77-e78d-4eba-b2dd-c181abc15cc8"
      },
      "source": [
        "for e in li:\n",
        "  print(e)"
      ],
      "execution_count": 2,
      "outputs": [
        {
          "output_type": "stream",
          "text": [
            "1\n",
            "2\n",
            "3\n",
            "4\n",
            "5\n"
          ],
          "name": "stdout"
        }
      ]
    },
    {
      "cell_type": "code",
      "metadata": {
        "id": "Vt0Y4Hq5rsoQ",
        "colab_type": "code",
        "colab": {}
      },
      "source": [
        "li2 = ['american', 'canada', 'thailand', 'japan', 'vietnam', 'singapore', 'hongkong']"
      ],
      "execution_count": 0,
      "outputs": []
    },
    {
      "cell_type": "code",
      "metadata": {
        "id": "crddi4TLr2g_",
        "colab_type": "code",
        "colab": {
          "base_uri": "https://localhost:8080/",
          "height": 136
        },
        "outputId": "9671e5f1-0354-433a-95b6-545be7a77cdf"
      },
      "source": [
        "for country in li2:\n",
        "  print(country.title())"
      ],
      "execution_count": 8,
      "outputs": [
        {
          "output_type": "stream",
          "text": [
            "American\n",
            "Canada\n",
            "Thailand\n",
            "Japan\n",
            "Vietnam\n",
            "Singapore\n",
            "Hongkong\n"
          ],
          "name": "stdout"
        }
      ]
    },
    {
      "cell_type": "code",
      "metadata": {
        "id": "TqHm4Mryr6Mu",
        "colab_type": "code",
        "colab": {
          "base_uri": "https://localhost:8080/",
          "height": 136
        },
        "outputId": "e953fea6-1818-4815-bb90-877325cd9b78"
      },
      "source": [
        "for country in li2:\n",
        "  print(country.upper())"
      ],
      "execution_count": 9,
      "outputs": [
        {
          "output_type": "stream",
          "text": [
            "AMERICAN\n",
            "CANADA\n",
            "THAILAND\n",
            "JAPAN\n",
            "VIETNAM\n",
            "SINGAPORE\n",
            "HONGKONG\n"
          ],
          "name": "stdout"
        }
      ]
    },
    {
      "cell_type": "code",
      "metadata": {
        "id": "ovUkcB5osTTq",
        "colab_type": "code",
        "colab": {}
      },
      "source": [
        ""
      ],
      "execution_count": 0,
      "outputs": []
    },
    {
      "cell_type": "markdown",
      "metadata": {
        "id": "SO_uUGFesgz3",
        "colab_type": "text"
      },
      "source": [
        "## range(start, stop, step)"
      ]
    },
    {
      "cell_type": "code",
      "metadata": {
        "id": "ovd0i7lYskSX",
        "colab_type": "code",
        "colab": {
          "base_uri": "https://localhost:8080/",
          "height": 34
        },
        "outputId": "ef35e18e-2ea4-466c-a707-fea3252d2e99"
      },
      "source": [
        "range(1, 100, 10)"
      ],
      "execution_count": 10,
      "outputs": [
        {
          "output_type": "execute_result",
          "data": {
            "text/plain": [
              "range(1, 100, 10)"
            ]
          },
          "metadata": {
            "tags": []
          },
          "execution_count": 10
        }
      ]
    },
    {
      "cell_type": "code",
      "metadata": {
        "id": "J7AQhVIbsnsJ",
        "colab_type": "code",
        "colab": {
          "base_uri": "https://localhost:8080/",
          "height": 34
        },
        "outputId": "0dba997e-4ec1-4d68-ae8d-f19aab0fa66d"
      },
      "source": [
        "list(range(1, 100, 10))"
      ],
      "execution_count": 11,
      "outputs": [
        {
          "output_type": "execute_result",
          "data": {
            "text/plain": [
              "[1, 11, 21, 31, 41, 51, 61, 71, 81, 91]"
            ]
          },
          "metadata": {
            "tags": []
          },
          "execution_count": 11
        }
      ]
    },
    {
      "cell_type": "code",
      "metadata": {
        "id": "xYTD1qGZsquQ",
        "colab_type": "code",
        "colab": {
          "base_uri": "https://localhost:8080/",
          "height": 34
        },
        "outputId": "ff596a2b-9d89-4ad7-fbf2-812ca275f6c1"
      },
      "source": [
        "# default: start = 0, step = 1\n",
        "list(range(10))"
      ],
      "execution_count": 13,
      "outputs": [
        {
          "output_type": "execute_result",
          "data": {
            "text/plain": [
              "[0, 1, 2, 3, 4, 5, 6, 7, 8, 9]"
            ]
          },
          "metadata": {
            "tags": []
          },
          "execution_count": 13
        }
      ]
    },
    {
      "cell_type": "code",
      "metadata": {
        "id": "Qq-CJoaVs0yY",
        "colab_type": "code",
        "colab": {
          "base_uri": "https://localhost:8080/",
          "height": 34
        },
        "outputId": "10be9cfe-9750-446b-aebc-aa4f221672e1"
      },
      "source": [
        "list(range(0, 10, 2))"
      ],
      "execution_count": 15,
      "outputs": [
        {
          "output_type": "execute_result",
          "data": {
            "text/plain": [
              "[0, 2, 4, 6, 8]"
            ]
          },
          "metadata": {
            "tags": []
          },
          "execution_count": 15
        }
      ]
    },
    {
      "cell_type": "code",
      "metadata": {
        "id": "3ke58DUTs9Wp",
        "colab_type": "code",
        "colab": {
          "base_uri": "https://localhost:8080/",
          "height": 187
        },
        "outputId": "57755949-d7e7-438c-9999-0ebd21eb966b"
      },
      "source": [
        "for number in range(10):\n",
        "  print(number)"
      ],
      "execution_count": 16,
      "outputs": [
        {
          "output_type": "stream",
          "text": [
            "0\n",
            "1\n",
            "2\n",
            "3\n",
            "4\n",
            "5\n",
            "6\n",
            "7\n",
            "8\n",
            "9\n"
          ],
          "name": "stdout"
        }
      ]
    },
    {
      "cell_type": "code",
      "metadata": {
        "id": "QymgBP0dtG7J",
        "colab_type": "code",
        "colab": {
          "base_uri": "https://localhost:8080/",
          "height": 136
        },
        "outputId": "7e0b89e0-514d-4c2a-f24a-fb8ed9c5417f"
      },
      "source": [
        "for index in range(len(li2)):\n",
        "  print(li2[index].title())"
      ],
      "execution_count": 19,
      "outputs": [
        {
          "output_type": "stream",
          "text": [
            "American\n",
            "Canada\n",
            "Thailand\n",
            "Japan\n",
            "Vietnam\n",
            "Singapore\n",
            "Hongkong\n"
          ],
          "name": "stdout"
        }
      ]
    },
    {
      "cell_type": "code",
      "metadata": {
        "id": "Z_kzt9UptOMZ",
        "colab_type": "code",
        "colab": {
          "base_uri": "https://localhost:8080/",
          "height": 102
        },
        "outputId": "8b024541-f355-478a-8bb4-13e835a81019"
      },
      "source": [
        "for i in range(5):\n",
        "  print('Hello World')"
      ],
      "execution_count": 20,
      "outputs": [
        {
          "output_type": "stream",
          "text": [
            "Hello World\n",
            "Hello World\n",
            "Hello World\n",
            "Hello World\n",
            "Hello World\n"
          ],
          "name": "stdout"
        }
      ]
    },
    {
      "cell_type": "markdown",
      "metadata": {
        "id": "JhgA20wqudVw",
        "colab_type": "text"
      },
      "source": [
        "# Interating through dictionaries"
      ]
    },
    {
      "cell_type": "code",
      "metadata": {
        "id": "BJ9JtGEGtYwI",
        "colab_type": "code",
        "colab": {}
      },
      "source": [
        "# loop through dictionary\n",
        "dics = {1: 'one', 2:'two', 'three': 3}"
      ],
      "execution_count": 0,
      "outputs": []
    },
    {
      "cell_type": "code",
      "metadata": {
        "id": "zvKu4O7st6DY",
        "colab_type": "code",
        "colab": {
          "base_uri": "https://localhost:8080/",
          "height": 68
        },
        "outputId": "72884766-cd6c-4a7e-af0f-33708b879c51"
      },
      "source": [
        "for key, val in dics.items():\n",
        "  print(\"Key: {}, val: {}\".format(key, val))"
      ],
      "execution_count": 23,
      "outputs": [
        {
          "output_type": "stream",
          "text": [
            "Key: 1, val: one\n",
            "Key: 2, val: two\n",
            "Key: three, val: 3\n"
          ],
          "name": "stdout"
        }
      ]
    },
    {
      "cell_type": "code",
      "metadata": {
        "id": "-bvoFA1AuEy4",
        "colab_type": "code",
        "colab": {}
      },
      "source": [
        ""
      ],
      "execution_count": 0,
      "outputs": []
    }
  ]
}