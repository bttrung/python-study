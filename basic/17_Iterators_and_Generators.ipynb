{
  "nbformat": 4,
  "nbformat_minor": 0,
  "metadata": {
    "colab": {
      "name": "17_Iterators and Generators.ipynb",
      "version": "0.3.2",
      "provenance": [],
      "collapsed_sections": [],
      "include_colab_link": true
    },
    "kernelspec": {
      "name": "python3",
      "display_name": "Python 3"
    }
  },
  "cells": [
    {
      "cell_type": "markdown",
      "metadata": {
        "id": "view-in-github",
        "colab_type": "text"
      },
      "source": [
        "<a href=\"https://colab.research.google.com/github/bttrung/python-study/blob/master/basic/17_Iterators_and_Generators.ipynb\" target=\"_parent\"><img src=\"https://colab.research.google.com/assets/colab-badge.svg\" alt=\"Open In Colab\"/></a>"
      ]
    },
    {
      "cell_type": "code",
      "metadata": {
        "id": "PwyH63he8vEe",
        "colab_type": "code",
        "colab": {}
      },
      "source": [
        "# Iterators: an object that represents a stream of data\n",
        "\n",
        "# Genrators: a function that creates an iterators\n",
        "\n",
        "lessons = [\"Why Python\", \"Data Types\", \"Control Flow\", \"Functions\", \"Scripting\"]"
      ],
      "execution_count": 0,
      "outputs": []
    },
    {
      "cell_type": "code",
      "metadata": {
        "id": "7sAP9DQj9rG4",
        "colab_type": "code",
        "colab": {
          "base_uri": "https://localhost:8080/",
          "height": 102
        },
        "outputId": "c5e0cb9b-1329-414a-84ad-b55cf58d3104"
      },
      "source": [
        "for a in list(enumerate(lessons)):\n",
        "  print(a[0], a[1])"
      ],
      "execution_count": 12,
      "outputs": [
        {
          "output_type": "stream",
          "text": [
            "0 Why Python\n",
            "1 Data Types\n",
            "2 Control Flow\n",
            "3 Functions\n",
            "4 Scripting\n"
          ],
          "name": "stdout"
        }
      ]
    },
    {
      "cell_type": "code",
      "metadata": {
        "id": "rB5ljiUg99Iw",
        "colab_type": "code",
        "colab": {}
      },
      "source": [
        "def my_enumerate_1(lessons, start):\n",
        "  return list(enumerate(lessons))"
      ],
      "execution_count": 0,
      "outputs": []
    },
    {
      "cell_type": "code",
      "metadata": {
        "id": "QGr0TW2A9Obr",
        "colab_type": "code",
        "colab": {
          "base_uri": "https://localhost:8080/",
          "height": 102
        },
        "outputId": "41474292-7f2d-41c5-8d21-3317fd1924a7"
      },
      "source": [
        "for i, lesson in my_enumerate_1(lessons, 1):\n",
        "  print(\"Lesson {}: {}\".format(1, lesson))"
      ],
      "execution_count": 17,
      "outputs": [
        {
          "output_type": "stream",
          "text": [
            "Lesson 1: Why Python\n",
            "Lesson 1: Data Types\n",
            "Lesson 1: Control Flow\n",
            "Lesson 1: Functions\n",
            "Lesson 1: Scripting\n"
          ],
          "name": "stdout"
        }
      ]
    },
    {
      "cell_type": "code",
      "metadata": {
        "id": "pJPpss_b9mnR",
        "colab_type": "code",
        "colab": {}
      },
      "source": [
        "# instead of using the return keyword, it uses yield. This allows the function to return values one at a time, and start where it left off each time it’s called\n",
        "\n",
        "def my_enumerate_2(lessons, start):\n",
        "  count = start\n",
        "  for e in lessons:\n",
        "    yield count, e, e.upper()\n",
        "    count+=1"
      ],
      "execution_count": 0,
      "outputs": []
    },
    {
      "cell_type": "code",
      "metadata": {
        "id": "nAAw8eJ8-9aK",
        "colab_type": "code",
        "colab": {
          "base_uri": "https://localhost:8080/",
          "height": 102
        },
        "outputId": "805ceeca-354b-4d0f-9bb3-1c7986ada411"
      },
      "source": [
        "for i, lesson, lesson_upper in my_enumerate_2(lessons, 1):\n",
        "  print(\"Lesson {}: {}, {}\".format(1, lesson, lesson_upper))"
      ],
      "execution_count": 27,
      "outputs": [
        {
          "output_type": "stream",
          "text": [
            "Lesson 1: Why Python, WHY PYTHON\n",
            "Lesson 1: Data Types, DATA TYPES\n",
            "Lesson 1: Control Flow, CONTROL FLOW\n",
            "Lesson 1: Functions, FUNCTIONS\n",
            "Lesson 1: Scripting, SCRIPTING\n"
          ],
          "name": "stdout"
        }
      ]
    },
    {
      "cell_type": "code",
      "metadata": {
        "id": "I7FpTyw4_Tsz",
        "colab_type": "code",
        "colab": {}
      },
      "source": [
        ""
      ],
      "execution_count": 0,
      "outputs": []
    }
  ]
}