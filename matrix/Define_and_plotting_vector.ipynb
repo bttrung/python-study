{
  "nbformat": 4,
  "nbformat_minor": 0,
  "metadata": {
    "colab": {
      "name": "Define and plotting vector.ipynb",
      "version": "0.3.2",
      "provenance": [],
      "include_colab_link": true
    },
    "kernelspec": {
      "name": "python3",
      "display_name": "Python 3"
    }
  },
  "cells": [
    {
      "cell_type": "markdown",
      "metadata": {
        "id": "view-in-github",
        "colab_type": "text"
      },
      "source": [
        "<a href=\"https://colab.research.google.com/github/bttrung/python-study/blob/master/matrix/Define_and_plotting_vector.ipynb\" target=\"_parent\"><img src=\"https://colab.research.google.com/assets/colab-badge.svg\" alt=\"Open In Colab\"/></a>"
      ]
    },
    {
      "cell_type": "code",
      "metadata": {
        "id": "Pn6xSi4n7pnw",
        "colab_type": "code",
        "colab": {}
      },
      "source": [
        "# Import NumPy and Matplotlib\n",
        "%matplotlib inline\n",
        "import numpy as np\n",
        "import matplotlib.pyplot as plt\n"
      ],
      "execution_count": 0,
      "outputs": []
    },
    {
      "cell_type": "markdown",
      "metadata": {
        "id": "TpLzbLQoCsUJ",
        "colab_type": "text"
      },
      "source": [
        "## Plotting 1 vector"
      ]
    },
    {
      "cell_type": "code",
      "metadata": {
        "id": "uBp0vSQ-7_7S",
        "colab_type": "code",
        "colab": {
          "base_uri": "https://localhost:8080/",
          "height": 269
        },
        "outputId": "c8bd1804-04e4-4097-d5e1-87701f1cb3cd"
      },
      "source": [
        "# define vertor v\n",
        "v = np.array([1,1])\n",
        "\n",
        "# create axes\n",
        "ax = plt.axes()\n",
        "\n",
        "# plot red dot at origin 0,0\n",
        "ax.plot(0,0,\"or\")\n",
        "\n",
        "# plot vector v as blue arrow\n",
        "ax.arrow(0, 0, *v, color='b', linewidth=2.0, head_width=0.20, head_length=0.25)\n",
        "\n",
        "# sets limit\n",
        "plt.xlim(-2, 2)\n",
        "\n",
        "# set major ticks for x-axis\n",
        "major_ticks = np.arange(-2, 3)\n",
        "ax.set_xticks(major_ticks)\n",
        "\n",
        "# set limit for y-axis\n",
        "major_yticks = np.arange(-1, 3)\n",
        "ax.set_yticks(major_yticks)\n",
        "\n",
        "# create gridlines\n",
        "plt.grid(b=True, which='major')\n",
        "\n",
        "plt.show()"
      ],
      "execution_count": 35,
      "outputs": [
        {
          "output_type": "display_data",
          "data": {
            "image/png": "[encoded data removed]",
            "text/plain": [
              "<Figure size 432x288 with 1 Axes>"
            ]
          },
          "metadata": {
            "tags": []
          }
        }
      ]
    },
    {
      "cell_type": "code",
      "metadata": {
        "id": "EBno6sXy8JUq",
        "colab_type": "code",
        "colab": {
          "base_uri": "https://localhost:8080/",
          "height": 34
        },
        "outputId": "7dd702b7-6178-4d1c-d6a7-748c0e55f4ed"
      },
      "source": [
        "np.arange(-1, 4)"
      ],
      "execution_count": 26,
      "outputs": [
        {
          "output_type": "execute_result",
          "data": {
            "text/plain": [
              "array([-1,  0,  1,  2,  3])"
            ]
          },
          "metadata": {
            "tags": []
          },
          "execution_count": 26
        }
      ]
    },
    {
      "cell_type": "markdown",
      "metadata": {
        "id": "NQcgv4kW_Q3t",
        "colab_type": "text"
      },
      "source": [
        "## Plotting 2 vectors"
      ]
    },
    {
      "cell_type": "code",
      "metadata": {
        "id": "FmmsnoIL_SrO",
        "colab_type": "code",
        "colab": {
          "base_uri": "https://localhost:8080/",
          "height": 269
        },
        "outputId": "d8b8acf2-96e4-466f-f3bf-382a2d5c3581"
      },
      "source": [
        "# Define vector v \n",
        "v = np.array([1,1])\n",
        "\n",
        "# Define vector w\n",
        "w = np.array([-2,2])\n",
        "\n",
        "# Plots vector v(blue arrow) and vector w(cyan arrow) with red dot at origin (0,0) \n",
        "# using Matplotlib\n",
        "\n",
        "# Creates axes of plot referenced 'ax'\n",
        "ax = plt.axes()\n",
        "\n",
        "# Plots red dot at origin (0,0)\n",
        "ax.plot(0,0,'or')\n",
        "\n",
        "# Plots vector v as blue arrow starting at origin 0,0\n",
        "ax.arrow(0, 0, *v, color='b', linewidth=2.5, head_width=0.30, head_length=0.35)\n",
        "\n",
        "# Plots vector w as cyan arrow starting at origin 0,0\n",
        "ax.arrow(0, 0, *w, color='c', linewidth=2.5, head_width=0.30, head_length=0.35)\n",
        "\n",
        "# Sets limit for plot for x-axis\n",
        "plt.xlim(-3, 2)\n",
        "\n",
        "# Set major ticks for x-axis\n",
        "major_xticks = np.arange(-3, 2)\n",
        "ax.set_xticks(major_xticks)\n",
        "\n",
        "\n",
        "# Sets limit for plot for y-axis\n",
        "plt.ylim(-1, 4)\n",
        "\n",
        "# Set major ticks for y-axis\n",
        "major_yticks = np.arange(-1, 4)\n",
        "ax.set_yticks(major_yticks)\n",
        "\n",
        "# Creates gridlines for only major tick marks\n",
        "plt.grid(b=True, which='major')\n",
        "\n",
        "# Displays final plot\n",
        "plt.show()"
      ],
      "execution_count": 36,
      "outputs": [
        {
          "output_type": "display_data",
          "data": {
            "image/png": "[encoded data removed]",
            "text/plain": [
              "<Figure size 432x288 with 1 Axes>"
            ]
          },
          "metadata": {
            "tags": []
          }
        }
      ]
    },
    {
      "cell_type": "code",
      "metadata": {
        "id": "s-C1X2-O_WOd",
        "colab_type": "code",
        "colab": {}
      },
      "source": [
        ""
      ],
      "execution_count": 0,
      "outputs": []
    }
  ]
}