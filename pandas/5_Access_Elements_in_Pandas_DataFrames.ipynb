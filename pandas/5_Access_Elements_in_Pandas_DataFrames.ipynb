{
  "nbformat": 4,
  "nbformat_minor": 0,
  "metadata": {
    "colab": {
      "name": "5_Access Elements in Pandas DataFrames.ipynb",
      "provenance": [],
      "collapsed_sections": [],
      "include_colab_link": true
    },
    "kernelspec": {
      "name": "python3",
      "display_name": "Python 3"
    }
  },
  "cells": [
    {
      "cell_type": "markdown",
      "metadata": {
        "id": "view-in-github",
        "colab_type": "text"
      },
      "source": [
        "<a href=\"https://colab.research.google.com/github/bttrung/python-study-notebooks/blob/master/pandas/5_Access_Elements_in_Pandas_DataFrames.ipynb\" target=\"_parent\"><img src=\"https://colab.research.google.com/assets/colab-badge.svg\" alt=\"Open In Colab\"/></a>"
      ]
    },
    {
      "cell_type": "code",
      "metadata": {
        "id": "Q6DamUbtjznK",
        "colab_type": "code",
        "colab": {}
      },
      "source": [
        "import pandas as pd"
      ],
      "execution_count": 0,
      "outputs": []
    },
    {
      "cell_type": "code",
      "metadata": {
        "id": "CjH7Xrr3j-Km",
        "colab_type": "code",
        "colab": {
          "base_uri": "https://localhost:8080/",
          "height": 111
        },
        "outputId": "823af2ac-d6e0-4dec-b7ac-137618b99a69"
      },
      "source": [
        "items = [{'bikes': 20, 'pants': 30, 'watches': 35},{'watches': 10, 'bikes': 15, 'pants': 5}]\n",
        "sc = pd.DataFrame(items, index=['store 1', 'store 2'])\n",
        "sc"
      ],
      "execution_count": 6,
      "outputs": [
        {
          "output_type": "execute_result",
          "data": {
            "text/html": [
              "<div>\n",
              "<style scoped>\n",
              "    .dataframe tbody tr th:only-of-type {\n",
              "        vertical-align: middle;\n",
              "    }\n",
              "\n",
              "    .dataframe tbody tr th {\n",
              "        vertical-align: top;\n",
              "    }\n",
              "\n",
              "    .dataframe thead th {\n",
              "        text-align: right;\n",
              "    }\n",
              "</style>\n",
              "<table border=\"1\" class=\"dataframe\">\n",
              "  <thead>\n",
              "    <tr style=\"text-align: right;\">\n",
              "      <th></th>\n",
              "      <th>bikes</th>\n",
              "      <th>pants</th>\n",
              "      <th>watches</th>\n",
              "    </tr>\n",
              "  </thead>\n",
              "  <tbody>\n",
              "    <tr>\n",
              "      <th>store 1</th>\n",
              "      <td>20</td>\n",
              "      <td>30</td>\n",
              "      <td>35</td>\n",
              "    </tr>\n",
              "    <tr>\n",
              "      <th>store 2</th>\n",
              "      <td>15</td>\n",
              "      <td>5</td>\n",
              "      <td>10</td>\n",
              "    </tr>\n",
              "  </tbody>\n",
              "</table>\n",
              "</div>"
            ],
            "text/plain": [
              "         bikes  pants  watches\n",
              "store 1     20     30       35\n",
              "store 2     15      5       10"
            ]
          },
          "metadata": {
            "tags": []
          },
          "execution_count": 6
        }
      ]
    },
    {
      "cell_type": "code",
      "metadata": {
        "id": "ru7ozfzakEJF",
        "colab_type": "code",
        "colab": {
          "base_uri": "https://localhost:8080/",
          "height": 111
        },
        "outputId": "eebf85ba-e6c0-4fe5-bd7a-3349e1f7f7b2"
      },
      "source": [
        "# access column\n",
        "sc[['bikes']]"
      ],
      "execution_count": 9,
      "outputs": [
        {
          "output_type": "execute_result",
          "data": {
            "text/html": [
              "<div>\n",
              "<style scoped>\n",
              "    .dataframe tbody tr th:only-of-type {\n",
              "        vertical-align: middle;\n",
              "    }\n",
              "\n",
              "    .dataframe tbody tr th {\n",
              "        vertical-align: top;\n",
              "    }\n",
              "\n",
              "    .dataframe thead th {\n",
              "        text-align: right;\n",
              "    }\n",
              "</style>\n",
              "<table border=\"1\" class=\"dataframe\">\n",
              "  <thead>\n",
              "    <tr style=\"text-align: right;\">\n",
              "      <th></th>\n",
              "      <th>bikes</th>\n",
              "    </tr>\n",
              "  </thead>\n",
              "  <tbody>\n",
              "    <tr>\n",
              "      <th>store 1</th>\n",
              "      <td>20</td>\n",
              "    </tr>\n",
              "    <tr>\n",
              "      <th>store 2</th>\n",
              "      <td>15</td>\n",
              "    </tr>\n",
              "  </tbody>\n",
              "</table>\n",
              "</div>"
            ],
            "text/plain": [
              "         bikes\n",
              "store 1     20\n",
              "store 2     15"
            ]
          },
          "metadata": {
            "tags": []
          },
          "execution_count": 9
        }
      ]
    },
    {
      "cell_type": "code",
      "metadata": {
        "id": "TwhNL7G_kwSZ",
        "colab_type": "code",
        "colab": {
          "base_uri": "https://localhost:8080/",
          "height": 80
        },
        "outputId": "3b09fc0b-734b-4d67-92b3-039a0f9a9439"
      },
      "source": [
        "# access row using row index\n",
        "sc.loc[['store 1']]"
      ],
      "execution_count": 10,
      "outputs": [
        {
          "output_type": "execute_result",
          "data": {
            "text/html": [
              "<div>\n",
              "<style scoped>\n",
              "    .dataframe tbody tr th:only-of-type {\n",
              "        vertical-align: middle;\n",
              "    }\n",
              "\n",
              "    .dataframe tbody tr th {\n",
              "        vertical-align: top;\n",
              "    }\n",
              "\n",
              "    .dataframe thead th {\n",
              "        text-align: right;\n",
              "    }\n",
              "</style>\n",
              "<table border=\"1\" class=\"dataframe\">\n",
              "  <thead>\n",
              "    <tr style=\"text-align: right;\">\n",
              "      <th></th>\n",
              "      <th>bikes</th>\n",
              "      <th>pants</th>\n",
              "      <th>watches</th>\n",
              "    </tr>\n",
              "  </thead>\n",
              "  <tbody>\n",
              "    <tr>\n",
              "      <th>store 1</th>\n",
              "      <td>20</td>\n",
              "      <td>30</td>\n",
              "      <td>35</td>\n",
              "    </tr>\n",
              "  </tbody>\n",
              "</table>\n",
              "</div>"
            ],
            "text/plain": [
              "         bikes  pants  watches\n",
              "store 1     20     30       35"
            ]
          },
          "metadata": {
            "tags": []
          },
          "execution_count": 10
        }
      ]
    },
    {
      "cell_type": "code",
      "metadata": {
        "id": "OkL2A-6zk7BC",
        "colab_type": "code",
        "colab": {
          "base_uri": "https://localhost:8080/",
          "height": 34
        },
        "outputId": "0fd1d3ca-4366-4bc7-b09b-605e49f34688"
      },
      "source": [
        "# access individual element\n",
        "# the order should be: column label, row label\n",
        "sc['pants']['store 2']"
      ],
      "execution_count": 11,
      "outputs": [
        {
          "output_type": "execute_result",
          "data": {
            "text/plain": [
              "5"
            ]
          },
          "metadata": {
            "tags": []
          },
          "execution_count": 11
        }
      ]
    },
    {
      "cell_type": "code",
      "metadata": {
        "id": "5qrkY-3elcuV",
        "colab_type": "code",
        "colab": {
          "base_uri": "https://localhost:8080/",
          "height": 111
        },
        "outputId": "ac5d8e2b-97f3-4ca6-b885-21d551a3cdb2"
      },
      "source": [
        "# assignment\n",
        "sc['pants']['store 2'] = 50\n",
        "sc"
      ],
      "execution_count": 12,
      "outputs": [
        {
          "output_type": "execute_result",
          "data": {
            "text/html": [
              "<div>\n",
              "<style scoped>\n",
              "    .dataframe tbody tr th:only-of-type {\n",
              "        vertical-align: middle;\n",
              "    }\n",
              "\n",
              "    .dataframe tbody tr th {\n",
              "        vertical-align: top;\n",
              "    }\n",
              "\n",
              "    .dataframe thead th {\n",
              "        text-align: right;\n",
              "    }\n",
              "</style>\n",
              "<table border=\"1\" class=\"dataframe\">\n",
              "  <thead>\n",
              "    <tr style=\"text-align: right;\">\n",
              "      <th></th>\n",
              "      <th>bikes</th>\n",
              "      <th>pants</th>\n",
              "      <th>watches</th>\n",
              "    </tr>\n",
              "  </thead>\n",
              "  <tbody>\n",
              "    <tr>\n",
              "      <th>store 1</th>\n",
              "      <td>20</td>\n",
              "      <td>30</td>\n",
              "      <td>35</td>\n",
              "    </tr>\n",
              "    <tr>\n",
              "      <th>store 2</th>\n",
              "      <td>15</td>\n",
              "      <td>50</td>\n",
              "      <td>10</td>\n",
              "    </tr>\n",
              "  </tbody>\n",
              "</table>\n",
              "</div>"
            ],
            "text/plain": [
              "         bikes  pants  watches\n",
              "store 1     20     30       35\n",
              "store 2     15     50       10"
            ]
          },
          "metadata": {
            "tags": []
          },
          "execution_count": 12
        }
      ]
    },
    {
      "cell_type": "code",
      "metadata": {
        "id": "_sTK5VvZluBO",
        "colab_type": "code",
        "colab": {
          "base_uri": "https://localhost:8080/",
          "height": 111
        },
        "outputId": "b39c3975-7d6a-46ec-8715-ca2259ea95da"
      },
      "source": [
        "# assign value to 1 column\n",
        "sc['bikes'] = [44, 55]\n",
        "sc"
      ],
      "execution_count": 13,
      "outputs": [
        {
          "output_type": "execute_result",
          "data": {
            "text/html": [
              "<div>\n",
              "<style scoped>\n",
              "    .dataframe tbody tr th:only-of-type {\n",
              "        vertical-align: middle;\n",
              "    }\n",
              "\n",
              "    .dataframe tbody tr th {\n",
              "        vertical-align: top;\n",
              "    }\n",
              "\n",
              "    .dataframe thead th {\n",
              "        text-align: right;\n",
              "    }\n",
              "</style>\n",
              "<table border=\"1\" class=\"dataframe\">\n",
              "  <thead>\n",
              "    <tr style=\"text-align: right;\">\n",
              "      <th></th>\n",
              "      <th>bikes</th>\n",
              "      <th>pants</th>\n",
              "      <th>watches</th>\n",
              "    </tr>\n",
              "  </thead>\n",
              "  <tbody>\n",
              "    <tr>\n",
              "      <th>store 1</th>\n",
              "      <td>44</td>\n",
              "      <td>30</td>\n",
              "      <td>35</td>\n",
              "    </tr>\n",
              "    <tr>\n",
              "      <th>store 2</th>\n",
              "      <td>55</td>\n",
              "      <td>50</td>\n",
              "      <td>10</td>\n",
              "    </tr>\n",
              "  </tbody>\n",
              "</table>\n",
              "</div>"
            ],
            "text/plain": [
              "         bikes  pants  watches\n",
              "store 1     44     30       35\n",
              "store 2     55     50       10"
            ]
          },
          "metadata": {
            "tags": []
          },
          "execution_count": 13
        }
      ]
    },
    {
      "cell_type": "code",
      "metadata": {
        "id": "v7DKgrJZl60A",
        "colab_type": "code",
        "colab": {
          "base_uri": "https://localhost:8080/",
          "height": 111
        },
        "outputId": "503b2354-9cc2-45ef-ddea-6771d6ad53f2"
      },
      "source": [
        "# assign value to 1 row\n",
        "sc.loc['store 2'] = 11, 22, 33 \n",
        "sc"
      ],
      "execution_count": 15,
      "outputs": [
        {
          "output_type": "execute_result",
          "data": {
            "text/html": [
              "<div>\n",
              "<style scoped>\n",
              "    .dataframe tbody tr th:only-of-type {\n",
              "        vertical-align: middle;\n",
              "    }\n",
              "\n",
              "    .dataframe tbody tr th {\n",
              "        vertical-align: top;\n",
              "    }\n",
              "\n",
              "    .dataframe thead th {\n",
              "        text-align: right;\n",
              "    }\n",
              "</style>\n",
              "<table border=\"1\" class=\"dataframe\">\n",
              "  <thead>\n",
              "    <tr style=\"text-align: right;\">\n",
              "      <th></th>\n",
              "      <th>bikes</th>\n",
              "      <th>pants</th>\n",
              "      <th>watches</th>\n",
              "    </tr>\n",
              "  </thead>\n",
              "  <tbody>\n",
              "    <tr>\n",
              "      <th>store 1</th>\n",
              "      <td>44</td>\n",
              "      <td>30</td>\n",
              "      <td>35</td>\n",
              "    </tr>\n",
              "    <tr>\n",
              "      <th>store 2</th>\n",
              "      <td>11</td>\n",
              "      <td>22</td>\n",
              "      <td>33</td>\n",
              "    </tr>\n",
              "  </tbody>\n",
              "</table>\n",
              "</div>"
            ],
            "text/plain": [
              "         bikes  pants  watches\n",
              "store 1     44     30       35\n",
              "store 2     11     22       33"
            ]
          },
          "metadata": {
            "tags": []
          },
          "execution_count": 15
        }
      ]
    },
    {
      "cell_type": "code",
      "metadata": {
        "id": "oUE2Yw9tmMgI",
        "colab_type": "code",
        "colab": {
          "base_uri": "https://localhost:8080/",
          "height": 111
        },
        "outputId": "e1d9a92b-0f29-4946-f315-217cae563ac8"
      },
      "source": [
        "# add new column\n",
        "sc['shirts'] = 45, 56\n",
        "sc"
      ],
      "execution_count": 17,
      "outputs": [
        {
          "output_type": "execute_result",
          "data": {
            "text/html": [
              "<div>\n",
              "<style scoped>\n",
              "    .dataframe tbody tr th:only-of-type {\n",
              "        vertical-align: middle;\n",
              "    }\n",
              "\n",
              "    .dataframe tbody tr th {\n",
              "        vertical-align: top;\n",
              "    }\n",
              "\n",
              "    .dataframe thead th {\n",
              "        text-align: right;\n",
              "    }\n",
              "</style>\n",
              "<table border=\"1\" class=\"dataframe\">\n",
              "  <thead>\n",
              "    <tr style=\"text-align: right;\">\n",
              "      <th></th>\n",
              "      <th>bikes</th>\n",
              "      <th>pants</th>\n",
              "      <th>watches</th>\n",
              "      <th>shirts</th>\n",
              "    </tr>\n",
              "  </thead>\n",
              "  <tbody>\n",
              "    <tr>\n",
              "      <th>store 1</th>\n",
              "      <td>44</td>\n",
              "      <td>30</td>\n",
              "      <td>35</td>\n",
              "      <td>45</td>\n",
              "    </tr>\n",
              "    <tr>\n",
              "      <th>store 2</th>\n",
              "      <td>11</td>\n",
              "      <td>22</td>\n",
              "      <td>33</td>\n",
              "      <td>56</td>\n",
              "    </tr>\n",
              "  </tbody>\n",
              "</table>\n",
              "</div>"
            ],
            "text/plain": [
              "         bikes  pants  watches  shirts\n",
              "store 1     44     30       35      45\n",
              "store 2     11     22       33      56"
            ]
          },
          "metadata": {
            "tags": []
          },
          "execution_count": 17
        }
      ]
    },
    {
      "cell_type": "code",
      "metadata": {
        "id": "QN6yQ_uymS_S",
        "colab_type": "code",
        "colab": {
          "base_uri": "https://localhost:8080/",
          "height": 111
        },
        "outputId": "a2e1d168-e30e-47de-b4f4-cb6e6807b83b"
      },
      "source": [
        "# add new column based on the existing columns\n",
        "sc['suits'] = sc['shirts'] + sc['pants']\n",
        "sc"
      ],
      "execution_count": 18,
      "outputs": [
        {
          "output_type": "execute_result",
          "data": {
            "text/html": [
              "<div>\n",
              "<style scoped>\n",
              "    .dataframe tbody tr th:only-of-type {\n",
              "        vertical-align: middle;\n",
              "    }\n",
              "\n",
              "    .dataframe tbody tr th {\n",
              "        vertical-align: top;\n",
              "    }\n",
              "\n",
              "    .dataframe thead th {\n",
              "        text-align: right;\n",
              "    }\n",
              "</style>\n",
              "<table border=\"1\" class=\"dataframe\">\n",
              "  <thead>\n",
              "    <tr style=\"text-align: right;\">\n",
              "      <th></th>\n",
              "      <th>bikes</th>\n",
              "      <th>pants</th>\n",
              "      <th>watches</th>\n",
              "      <th>shirts</th>\n",
              "      <th>suits</th>\n",
              "    </tr>\n",
              "  </thead>\n",
              "  <tbody>\n",
              "    <tr>\n",
              "      <th>store 1</th>\n",
              "      <td>44</td>\n",
              "      <td>30</td>\n",
              "      <td>35</td>\n",
              "      <td>45</td>\n",
              "      <td>75</td>\n",
              "    </tr>\n",
              "    <tr>\n",
              "      <th>store 2</th>\n",
              "      <td>11</td>\n",
              "      <td>22</td>\n",
              "      <td>33</td>\n",
              "      <td>56</td>\n",
              "      <td>78</td>\n",
              "    </tr>\n",
              "  </tbody>\n",
              "</table>\n",
              "</div>"
            ],
            "text/plain": [
              "         bikes  pants  watches  shirts  suits\n",
              "store 1     44     30       35      45     75\n",
              "store 2     11     22       33      56     78"
            ]
          },
          "metadata": {
            "tags": []
          },
          "execution_count": 18
        }
      ]
    },
    {
      "cell_type": "code",
      "metadata": {
        "id": "K9bnTaZpmi5Y",
        "colab_type": "code",
        "colab": {
          "base_uri": "https://localhost:8080/",
          "height": 278
        },
        "outputId": "6ddc8f2b-a545-4895-9896-47b89092c60c"
      },
      "source": [
        "# add new row\n",
        "new_item = [{'bikes': 20, 'pants': 3, 'watches': 36, 'glasses': 33}]\n",
        "new_sc = pd.DataFrame(new_item, index=['store 3'])\n",
        "sc = sc.append(new_sc)\n",
        "sc"
      ],
      "execution_count": 22,
      "outputs": [
        {
          "output_type": "stream",
          "text": [
            "/usr/local/lib/python3.6/dist-packages/pandas/core/frame.py:6692: FutureWarning: Sorting because non-concatenation axis is not aligned. A future version\n",
            "of pandas will change to not sort by default.\n",
            "\n",
            "To accept the future behavior, pass 'sort=False'.\n",
            "\n",
            "To retain the current behavior and silence the warning, pass 'sort=True'.\n",
            "\n",
            "  sort=sort)\n"
          ],
          "name": "stderr"
        },
        {
          "output_type": "execute_result",
          "data": {
            "text/html": [
              "<div>\n",
              "<style scoped>\n",
              "    .dataframe tbody tr th:only-of-type {\n",
              "        vertical-align: middle;\n",
              "    }\n",
              "\n",
              "    .dataframe tbody tr th {\n",
              "        vertical-align: top;\n",
              "    }\n",
              "\n",
              "    .dataframe thead th {\n",
              "        text-align: right;\n",
              "    }\n",
              "</style>\n",
              "<table border=\"1\" class=\"dataframe\">\n",
              "  <thead>\n",
              "    <tr style=\"text-align: right;\">\n",
              "      <th></th>\n",
              "      <th>bikes</th>\n",
              "      <th>glasses</th>\n",
              "      <th>pants</th>\n",
              "      <th>shirts</th>\n",
              "      <th>suits</th>\n",
              "      <th>watches</th>\n",
              "    </tr>\n",
              "  </thead>\n",
              "  <tbody>\n",
              "    <tr>\n",
              "      <th>store 1</th>\n",
              "      <td>44</td>\n",
              "      <td>NaN</td>\n",
              "      <td>30</td>\n",
              "      <td>45.0</td>\n",
              "      <td>75.0</td>\n",
              "      <td>35</td>\n",
              "    </tr>\n",
              "    <tr>\n",
              "      <th>store 2</th>\n",
              "      <td>11</td>\n",
              "      <td>NaN</td>\n",
              "      <td>22</td>\n",
              "      <td>56.0</td>\n",
              "      <td>78.0</td>\n",
              "      <td>33</td>\n",
              "    </tr>\n",
              "    <tr>\n",
              "      <th>store 3</th>\n",
              "      <td>20</td>\n",
              "      <td>33.0</td>\n",
              "      <td>3</td>\n",
              "      <td>NaN</td>\n",
              "      <td>NaN</td>\n",
              "      <td>36</td>\n",
              "    </tr>\n",
              "  </tbody>\n",
              "</table>\n",
              "</div>"
            ],
            "text/plain": [
              "         bikes  glasses  pants  shirts  suits  watches\n",
              "store 1     44      NaN     30    45.0   75.0       35\n",
              "store 2     11      NaN     22    56.0   78.0       33\n",
              "store 3     20     33.0      3     NaN    NaN       36"
            ]
          },
          "metadata": {
            "tags": []
          },
          "execution_count": 22
        }
      ]
    },
    {
      "cell_type": "code",
      "metadata": {
        "id": "DuxaoTeum9l9",
        "colab_type": "code",
        "colab": {
          "base_uri": "https://localhost:8080/",
          "height": 142
        },
        "outputId": "a425927c-10f7-4faf-8708-aa96563b4add"
      },
      "source": [
        "# add new watches\n",
        "sc['new_watches'] = sc['watches'][1:] # get from index 1\n",
        "sc"
      ],
      "execution_count": 23,
      "outputs": [
        {
          "output_type": "execute_result",
          "data": {
            "text/html": [
              "<div>\n",
              "<style scoped>\n",
              "    .dataframe tbody tr th:only-of-type {\n",
              "        vertical-align: middle;\n",
              "    }\n",
              "\n",
              "    .dataframe tbody tr th {\n",
              "        vertical-align: top;\n",
              "    }\n",
              "\n",
              "    .dataframe thead th {\n",
              "        text-align: right;\n",
              "    }\n",
              "</style>\n",
              "<table border=\"1\" class=\"dataframe\">\n",
              "  <thead>\n",
              "    <tr style=\"text-align: right;\">\n",
              "      <th></th>\n",
              "      <th>bikes</th>\n",
              "      <th>glasses</th>\n",
              "      <th>pants</th>\n",
              "      <th>shirts</th>\n",
              "      <th>suits</th>\n",
              "      <th>watches</th>\n",
              "      <th>new_watches</th>\n",
              "    </tr>\n",
              "  </thead>\n",
              "  <tbody>\n",
              "    <tr>\n",
              "      <th>store 1</th>\n",
              "      <td>44</td>\n",
              "      <td>NaN</td>\n",
              "      <td>30</td>\n",
              "      <td>45.0</td>\n",
              "      <td>75.0</td>\n",
              "      <td>35</td>\n",
              "      <td>NaN</td>\n",
              "    </tr>\n",
              "    <tr>\n",
              "      <th>store 2</th>\n",
              "      <td>11</td>\n",
              "      <td>NaN</td>\n",
              "      <td>22</td>\n",
              "      <td>56.0</td>\n",
              "      <td>78.0</td>\n",
              "      <td>33</td>\n",
              "      <td>33.0</td>\n",
              "    </tr>\n",
              "    <tr>\n",
              "      <th>store 3</th>\n",
              "      <td>20</td>\n",
              "      <td>33.0</td>\n",
              "      <td>3</td>\n",
              "      <td>NaN</td>\n",
              "      <td>NaN</td>\n",
              "      <td>36</td>\n",
              "      <td>36.0</td>\n",
              "    </tr>\n",
              "  </tbody>\n",
              "</table>\n",
              "</div>"
            ],
            "text/plain": [
              "         bikes  glasses  pants  shirts  suits  watches  new_watches\n",
              "store 1     44      NaN     30    45.0   75.0       35          NaN\n",
              "store 2     11      NaN     22    56.0   78.0       33         33.0\n",
              "store 3     20     33.0      3     NaN    NaN       36         36.0"
            ]
          },
          "metadata": {
            "tags": []
          },
          "execution_count": 23
        }
      ]
    },
    {
      "cell_type": "code",
      "metadata": {
        "id": "NCuTWQYCn5uT",
        "colab_type": "code",
        "colab": {
          "base_uri": "https://localhost:8080/",
          "height": 142
        },
        "outputId": "63fda4bc-d4a9-4595-f8a2-01b6d069fc2b"
      },
      "source": [
        "# insert shoes before index 5\n",
        "sc.insert(5, 'shoes', [1, 2, 3]) \n",
        "sc"
      ],
      "execution_count": 24,
      "outputs": [
        {
          "output_type": "execute_result",
          "data": {
            "text/html": [
              "<div>\n",
              "<style scoped>\n",
              "    .dataframe tbody tr th:only-of-type {\n",
              "        vertical-align: middle;\n",
              "    }\n",
              "\n",
              "    .dataframe tbody tr th {\n",
              "        vertical-align: top;\n",
              "    }\n",
              "\n",
              "    .dataframe thead th {\n",
              "        text-align: right;\n",
              "    }\n",
              "</style>\n",
              "<table border=\"1\" class=\"dataframe\">\n",
              "  <thead>\n",
              "    <tr style=\"text-align: right;\">\n",
              "      <th></th>\n",
              "      <th>bikes</th>\n",
              "      <th>glasses</th>\n",
              "      <th>pants</th>\n",
              "      <th>shirts</th>\n",
              "      <th>suits</th>\n",
              "      <th>shoes</th>\n",
              "      <th>watches</th>\n",
              "      <th>new_watches</th>\n",
              "    </tr>\n",
              "  </thead>\n",
              "  <tbody>\n",
              "    <tr>\n",
              "      <th>store 1</th>\n",
              "      <td>44</td>\n",
              "      <td>NaN</td>\n",
              "      <td>30</td>\n",
              "      <td>45.0</td>\n",
              "      <td>75.0</td>\n",
              "      <td>1</td>\n",
              "      <td>35</td>\n",
              "      <td>NaN</td>\n",
              "    </tr>\n",
              "    <tr>\n",
              "      <th>store 2</th>\n",
              "      <td>11</td>\n",
              "      <td>NaN</td>\n",
              "      <td>22</td>\n",
              "      <td>56.0</td>\n",
              "      <td>78.0</td>\n",
              "      <td>2</td>\n",
              "      <td>33</td>\n",
              "      <td>33.0</td>\n",
              "    </tr>\n",
              "    <tr>\n",
              "      <th>store 3</th>\n",
              "      <td>20</td>\n",
              "      <td>33.0</td>\n",
              "      <td>3</td>\n",
              "      <td>NaN</td>\n",
              "      <td>NaN</td>\n",
              "      <td>3</td>\n",
              "      <td>36</td>\n",
              "      <td>36.0</td>\n",
              "    </tr>\n",
              "  </tbody>\n",
              "</table>\n",
              "</div>"
            ],
            "text/plain": [
              "         bikes  glasses  pants  shirts  suits  shoes  watches  new_watches\n",
              "store 1     44      NaN     30    45.0   75.0      1       35          NaN\n",
              "store 2     11      NaN     22    56.0   78.0      2       33         33.0\n",
              "store 3     20     33.0      3     NaN    NaN      3       36         36.0"
            ]
          },
          "metadata": {
            "tags": []
          },
          "execution_count": 24
        }
      ]
    },
    {
      "cell_type": "code",
      "metadata": {
        "id": "bfc2fUJQoFKi",
        "colab_type": "code",
        "colab": {
          "base_uri": "https://localhost:8080/",
          "height": 142
        },
        "outputId": "c00e4ae8-fadb-47a3-dfce-59d07c84fb0b"
      },
      "source": [
        "# remove column\n",
        "sc.pop('new_watches')\n",
        "sc"
      ],
      "execution_count": 25,
      "outputs": [
        {
          "output_type": "execute_result",
          "data": {
            "text/html": [
              "<div>\n",
              "<style scoped>\n",
              "    .dataframe tbody tr th:only-of-type {\n",
              "        vertical-align: middle;\n",
              "    }\n",
              "\n",
              "    .dataframe tbody tr th {\n",
              "        vertical-align: top;\n",
              "    }\n",
              "\n",
              "    .dataframe thead th {\n",
              "        text-align: right;\n",
              "    }\n",
              "</style>\n",
              "<table border=\"1\" class=\"dataframe\">\n",
              "  <thead>\n",
              "    <tr style=\"text-align: right;\">\n",
              "      <th></th>\n",
              "      <th>bikes</th>\n",
              "      <th>glasses</th>\n",
              "      <th>pants</th>\n",
              "      <th>shirts</th>\n",
              "      <th>suits</th>\n",
              "      <th>shoes</th>\n",
              "      <th>watches</th>\n",
              "    </tr>\n",
              "  </thead>\n",
              "  <tbody>\n",
              "    <tr>\n",
              "      <th>store 1</th>\n",
              "      <td>44</td>\n",
              "      <td>NaN</td>\n",
              "      <td>30</td>\n",
              "      <td>45.0</td>\n",
              "      <td>75.0</td>\n",
              "      <td>1</td>\n",
              "      <td>35</td>\n",
              "    </tr>\n",
              "    <tr>\n",
              "      <th>store 2</th>\n",
              "      <td>11</td>\n",
              "      <td>NaN</td>\n",
              "      <td>22</td>\n",
              "      <td>56.0</td>\n",
              "      <td>78.0</td>\n",
              "      <td>2</td>\n",
              "      <td>33</td>\n",
              "    </tr>\n",
              "    <tr>\n",
              "      <th>store 3</th>\n",
              "      <td>20</td>\n",
              "      <td>33.0</td>\n",
              "      <td>3</td>\n",
              "      <td>NaN</td>\n",
              "      <td>NaN</td>\n",
              "      <td>3</td>\n",
              "      <td>36</td>\n",
              "    </tr>\n",
              "  </tbody>\n",
              "</table>\n",
              "</div>"
            ],
            "text/plain": [
              "         bikes  glasses  pants  shirts  suits  shoes  watches\n",
              "store 1     44      NaN     30    45.0   75.0      1       35\n",
              "store 2     11      NaN     22    56.0   78.0      2       33\n",
              "store 3     20     33.0      3     NaN    NaN      3       36"
            ]
          },
          "metadata": {
            "tags": []
          },
          "execution_count": 25
        }
      ]
    },
    {
      "cell_type": "code",
      "metadata": {
        "id": "WtrtP7iToSG7",
        "colab_type": "code",
        "colab": {
          "base_uri": "https://localhost:8080/",
          "height": 111
        },
        "outputId": "550c26aa-fbc9-4976-9048-c42e878a18ec"
      },
      "source": [
        "# remove row\n",
        "sc = sc.drop(['store 1'], axis=0)\n",
        "sc"
      ],
      "execution_count": 27,
      "outputs": [
        {
          "output_type": "execute_result",
          "data": {
            "text/html": [
              "<div>\n",
              "<style scoped>\n",
              "    .dataframe tbody tr th:only-of-type {\n",
              "        vertical-align: middle;\n",
              "    }\n",
              "\n",
              "    .dataframe tbody tr th {\n",
              "        vertical-align: top;\n",
              "    }\n",
              "\n",
              "    .dataframe thead th {\n",
              "        text-align: right;\n",
              "    }\n",
              "</style>\n",
              "<table border=\"1\" class=\"dataframe\">\n",
              "  <thead>\n",
              "    <tr style=\"text-align: right;\">\n",
              "      <th></th>\n",
              "      <th>bikes</th>\n",
              "      <th>glasses</th>\n",
              "      <th>pants</th>\n",
              "      <th>shirts</th>\n",
              "      <th>suits</th>\n",
              "      <th>shoes</th>\n",
              "      <th>watches</th>\n",
              "    </tr>\n",
              "  </thead>\n",
              "  <tbody>\n",
              "    <tr>\n",
              "      <th>store 2</th>\n",
              "      <td>11</td>\n",
              "      <td>NaN</td>\n",
              "      <td>22</td>\n",
              "      <td>56.0</td>\n",
              "      <td>78.0</td>\n",
              "      <td>2</td>\n",
              "      <td>33</td>\n",
              "    </tr>\n",
              "    <tr>\n",
              "      <th>store 3</th>\n",
              "      <td>20</td>\n",
              "      <td>33.0</td>\n",
              "      <td>3</td>\n",
              "      <td>NaN</td>\n",
              "      <td>NaN</td>\n",
              "      <td>3</td>\n",
              "      <td>36</td>\n",
              "    </tr>\n",
              "  </tbody>\n",
              "</table>\n",
              "</div>"
            ],
            "text/plain": [
              "         bikes  glasses  pants  shirts  suits  shoes  watches\n",
              "store 2     11      NaN     22    56.0   78.0      2       33\n",
              "store 3     20     33.0      3     NaN    NaN      3       36"
            ]
          },
          "metadata": {
            "tags": []
          },
          "execution_count": 27
        }
      ]
    },
    {
      "cell_type": "code",
      "metadata": {
        "id": "ZSdvxX3ZoeLG",
        "colab_type": "code",
        "colab": {
          "base_uri": "https://localhost:8080/",
          "height": 111
        },
        "outputId": "0a7bc55f-588a-47cf-91aa-c36984aed776"
      },
      "source": [
        "# change column label\n",
        "sc = sc.rename(columns={'bikes': 'hats'})\n",
        "sc"
      ],
      "execution_count": 28,
      "outputs": [
        {
          "output_type": "execute_result",
          "data": {
            "text/html": [
              "<div>\n",
              "<style scoped>\n",
              "    .dataframe tbody tr th:only-of-type {\n",
              "        vertical-align: middle;\n",
              "    }\n",
              "\n",
              "    .dataframe tbody tr th {\n",
              "        vertical-align: top;\n",
              "    }\n",
              "\n",
              "    .dataframe thead th {\n",
              "        text-align: right;\n",
              "    }\n",
              "</style>\n",
              "<table border=\"1\" class=\"dataframe\">\n",
              "  <thead>\n",
              "    <tr style=\"text-align: right;\">\n",
              "      <th></th>\n",
              "      <th>hats</th>\n",
              "      <th>glasses</th>\n",
              "      <th>pants</th>\n",
              "      <th>shirts</th>\n",
              "      <th>suits</th>\n",
              "      <th>shoes</th>\n",
              "      <th>watches</th>\n",
              "    </tr>\n",
              "  </thead>\n",
              "  <tbody>\n",
              "    <tr>\n",
              "      <th>store 2</th>\n",
              "      <td>11</td>\n",
              "      <td>NaN</td>\n",
              "      <td>22</td>\n",
              "      <td>56.0</td>\n",
              "      <td>78.0</td>\n",
              "      <td>2</td>\n",
              "      <td>33</td>\n",
              "    </tr>\n",
              "    <tr>\n",
              "      <th>store 3</th>\n",
              "      <td>20</td>\n",
              "      <td>33.0</td>\n",
              "      <td>3</td>\n",
              "      <td>NaN</td>\n",
              "      <td>NaN</td>\n",
              "      <td>3</td>\n",
              "      <td>36</td>\n",
              "    </tr>\n",
              "  </tbody>\n",
              "</table>\n",
              "</div>"
            ],
            "text/plain": [
              "         hats  glasses  pants  shirts  suits  shoes  watches\n",
              "store 2    11      NaN     22    56.0   78.0      2       33\n",
              "store 3    20     33.0      3     NaN    NaN      3       36"
            ]
          },
          "metadata": {
            "tags": []
          },
          "execution_count": 28
        }
      ]
    },
    {
      "cell_type": "code",
      "metadata": {
        "id": "qrrkEK0dou9-",
        "colab_type": "code",
        "colab": {
          "base_uri": "https://localhost:8080/",
          "height": 111
        },
        "outputId": "4a2db852-5212-4fc9-b2f3-08423e0263ba"
      },
      "source": [
        "sc = sc.rename(index={'store 3' : 'Singapore store', 'store 2': 'Vietnam store'})\n",
        "sc"
      ],
      "execution_count": 30,
      "outputs": [
        {
          "output_type": "execute_result",
          "data": {
            "text/html": [
              "<div>\n",
              "<style scoped>\n",
              "    .dataframe tbody tr th:only-of-type {\n",
              "        vertical-align: middle;\n",
              "    }\n",
              "\n",
              "    .dataframe tbody tr th {\n",
              "        vertical-align: top;\n",
              "    }\n",
              "\n",
              "    .dataframe thead th {\n",
              "        text-align: right;\n",
              "    }\n",
              "</style>\n",
              "<table border=\"1\" class=\"dataframe\">\n",
              "  <thead>\n",
              "    <tr style=\"text-align: right;\">\n",
              "      <th></th>\n",
              "      <th>hats</th>\n",
              "      <th>glasses</th>\n",
              "      <th>pants</th>\n",
              "      <th>shirts</th>\n",
              "      <th>suits</th>\n",
              "      <th>shoes</th>\n",
              "      <th>watches</th>\n",
              "    </tr>\n",
              "  </thead>\n",
              "  <tbody>\n",
              "    <tr>\n",
              "      <th>Vietnam store</th>\n",
              "      <td>11</td>\n",
              "      <td>NaN</td>\n",
              "      <td>22</td>\n",
              "      <td>56.0</td>\n",
              "      <td>78.0</td>\n",
              "      <td>2</td>\n",
              "      <td>33</td>\n",
              "    </tr>\n",
              "    <tr>\n",
              "      <th>Singapore store</th>\n",
              "      <td>20</td>\n",
              "      <td>33.0</td>\n",
              "      <td>3</td>\n",
              "      <td>NaN</td>\n",
              "      <td>NaN</td>\n",
              "      <td>3</td>\n",
              "      <td>36</td>\n",
              "    </tr>\n",
              "  </tbody>\n",
              "</table>\n",
              "</div>"
            ],
            "text/plain": [
              "                 hats  glasses  pants  shirts  suits  shoes  watches\n",
              "Vietnam store      11      NaN     22    56.0   78.0      2       33\n",
              "Singapore store    20     33.0      3     NaN    NaN      3       36"
            ]
          },
          "metadata": {
            "tags": []
          },
          "execution_count": 30
        }
      ]
    },
    {
      "cell_type": "code",
      "metadata": {
        "id": "Xzp4jEFao6Gt",
        "colab_type": "code",
        "colab": {}
      },
      "source": [
        ""
      ],
      "execution_count": 0,
      "outputs": []
    }
  ]
}